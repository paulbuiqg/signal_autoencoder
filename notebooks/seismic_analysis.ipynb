{
 "cells": [
  {
   "attachments": {},
   "cell_type": "markdown",
   "metadata": {},
   "source": [
    "Load embeddings."
   ]
  },
  {
   "cell_type": "code",
   "execution_count": 1,
   "metadata": {},
   "outputs": [
    {
     "name": "stdout",
     "output_type": "stream",
     "text": [
      "Shape of embeddings: (48669, 256)\n"
     ]
    }
   ],
   "source": [
    "import torch\n",
    "\n",
    "embeddings = torch.load('../data/embeddings.pt', map_location=torch.device('cpu'))\n",
    "embeddings = embeddings.squeeze().numpy()\n",
    "\n",
    "print('Shape of embeddings:', embeddings.shape)"
   ]
  },
  {
   "cell_type": "markdown",
   "metadata": {},
   "source": [
    "Load dataloader for event metadata."
   ]
  },
  {
   "cell_type": "code",
   "execution_count": 2,
   "metadata": {},
   "outputs": [],
   "source": [
    "import numpy as np\n",
    "import pandas as pd\n",
    "\n",
    "dataloader = torch.load('../data/dataloader.pth')\n",
    "event_ids = np.array([f.split('_')[0] for f in dataloader.dataset.files])\n",
    "df_event = pd.read_csv('../data/events.csv')\n",
    "event_types = np.array([\n",
    "    df_event.loc[df_event['eventID'] == int(i), 'event_type'].item()\n",
    "    for i in event_ids\n",
    "])"
   ]
  },
  {
   "cell_type": "markdown",
   "metadata": {},
   "source": [
    "There are two types of event: earthquare, nuclear explosion.\n",
    "\n",
    "Let's predict the event type from its signal embeddings."
   ]
  },
  {
   "cell_type": "code",
   "execution_count": 3,
   "metadata": {},
   "outputs": [
    {
     "name": "stdout",
     "output_type": "stream",
     "text": [
      "Number of signals by event type:\n",
      "- earthquake: 48638\n",
      "- nuclear explosion: 31\n"
     ]
    }
   ],
   "source": [
    "print('Number of signals by event type:')\n",
    "print('- earthquake:', len(event_ids[event_types == 'earthquake']))\n",
    "print('- nuclear explosion:', len(event_ids[event_types == 'nuclear explosion']))"
   ]
  },
  {
   "cell_type": "markdown",
   "metadata": {},
   "source": [
    "The data is highly imbalanced"
   ]
  },
  {
   "cell_type": "markdown",
   "metadata": {},
   "source": [
    "Split events for training and test."
   ]
  },
  {
   "cell_type": "code",
   "execution_count": 4,
   "metadata": {},
   "outputs": [],
   "source": [
    "from sklearn.model_selection import train_test_split\n",
    "\n",
    "train_events, test_events = train_test_split(df_event['eventID'].values,\n",
    "                                             stratify=df_event['event_type'])\n",
    "\n",
    "is_train = np.isin(event_ids, train_events)\n",
    "is_test = np.isin(event_ids, test_events)"
   ]
  },
  {
   "cell_type": "markdown",
   "metadata": {},
   "source": [
    "Train a logistic regression."
   ]
  },
  {
   "cell_type": "code",
   "execution_count": 5,
   "metadata": {},
   "outputs": [
    {
     "name": "stdout",
     "output_type": "stream",
     "text": [
      "Accuracy:\n",
      "- training 0.7019022122023391\n",
      "- test 0.7044902912621359\n",
      "\n",
      "Test confusion matrix:\n",
      "[[9284 3891]\n",
      " [   5    4]]\n"
     ]
    }
   ],
   "source": [
    "from sklearn.linear_model import LogisticRegression\n",
    "from sklearn.metrics import confusion_matrix\n",
    "\n",
    "X_train = embeddings[is_train]\n",
    "X_test = embeddings[is_test]\n",
    "y_train = event_types[is_train]\n",
    "y_test = event_types[is_test]\n",
    "\n",
    "lr = LogisticRegression(class_weight='balanced')\n",
    "lr.fit(X_train, y_train)\n",
    "print('Accuracy:')\n",
    "print('- training', lr.score(X_train, y_train))\n",
    "print('- test', lr.score(X_test, y_test))\n",
    "print('')\n",
    "print('Test confusion matrix:')\n",
    "y_pred = lr.predict(X_test)\n",
    "print(confusion_matrix(y_test, y_pred))"
   ]
  },
  {
   "cell_type": "markdown",
   "metadata": {},
   "source": [
    "Visualize the logistic regression coefficients."
   ]
  },
  {
   "cell_type": "code",
   "execution_count": 6,
   "metadata": {},
   "outputs": [
    {
     "data": {
      "image/png": "[encoded data removed]",
      "text/plain": [
       "<Figure size 640x480 with 1 Axes>"
      ]
     },
     "metadata": {},
     "output_type": "display_data"
    }
   ],
   "source": [
    "import matplotlib.pyplot as plt\n",
    "\n",
    "plt.scatter(range(len(lr.coef_.flatten())), lr.coef_)\n",
    "plt.xlabel('Coefficient index')\n",
    "plt.ylabel('Coefficient value')\n",
    "plt.show()"
   ]
  },
  {
   "cell_type": "markdown",
   "metadata": {},
   "source": [
    "Only one coefficient is >1 in absolute value.\n",
    "\n",
    "Let's predict the event type using the corresponding embedding dimension only."
   ]
  },
  {
   "cell_type": "code",
   "execution_count": 7,
   "metadata": {},
   "outputs": [],
   "source": [
    "best_coef = np.argmax(np.abs(lr.coef_))"
   ]
  },
  {
   "cell_type": "code",
   "execution_count": 8,
   "metadata": {},
   "outputs": [
    {
     "name": "stdout",
     "output_type": "stream",
     "text": [
      "Accuracy:\n",
      "- training 0.7012822319289841\n",
      "- test 0.703807645631068\n",
      "\n",
      "Test confusion matrix:\n",
      "[[9275 3900]\n",
      " [   5    4]]\n"
     ]
    }
   ],
   "source": [
    "embeddings_1d = embeddings[:,best_coef]\n",
    "X_train = embeddings_1d[is_train].reshape(-1, 1)\n",
    "X_test = embeddings_1d[is_test].reshape(-1, 1)\n",
    "y_train = event_types[is_train]\n",
    "y_test = event_types[is_test]\n",
    "\n",
    "lr = LogisticRegression(class_weight='balanced')\n",
    "lr.fit(X_train, y_train)\n",
    "print('Accuracy:')\n",
    "print('- training', lr.score(X_train, y_train))\n",
    "print('- test', lr.score(X_test, y_test))\n",
    "print('')\n",
    "print('Test confusion matrix:')\n",
    "y_pred = lr.predict(X_test)\n",
    "print(confusion_matrix(y_test, y_pred))\n"
   ]
  }
 ],
 "metadata": {
  "kernelspec": {
   "display_name": "Python 3 (ipykernel)",
   "language": "python",
   "name": "python3"
  },
  "language_info": {
   "codemirror_mode": {
    "name": "ipython",
    "version": 3
   },
   "file_extension": ".py",
   "mimetype": "text/x-python",
   "name": "python",
   "nbconvert_exporter": "python",
   "pygments_lexer": "ipython3",
   "version": "3.10.12"
  },
  "orig_nbformat": 4
 },
 "nbformat": 4,
 "nbformat_minor": 2
}
