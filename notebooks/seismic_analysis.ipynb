{
 "cells": [
  {
   "attachments": {},
   "cell_type": "markdown",
   "metadata": {},
   "source": [
    "Import packages."
   ]
  },
  {
   "cell_type": "code",
   "execution_count": null,
   "metadata": {},
   "outputs": [],
   "source": [
    "import numpy as np\n",
    "import pandas as pd\n",
    "import torch\n",
    "from sklearn.metrics import confusion_matrix\n",
    "from  sklearn.naive_bayes import GaussianNB"
   ]
  },
  {
   "cell_type": "markdown",
   "metadata": {},
   "source": [
    "Load dataloader for event metadata."
   ]
  },
  {
   "cell_type": "code",
   "execution_count": 2,
   "metadata": {},
   "outputs": [],
   "source": [
    "dataloader = torch.load('../data/dataloader.pth')\n",
    "event_ids = np.array([f.split('_')[0] for f in dataloader.dataset.files])\n",
    "df_event = pd.read_csv('../data/events.csv')\n",
    "event_types = np.array([\n",
    "    df_event.loc[df_event['eventID'] == int(i), 'event_type'].item()\n",
    "    for i in event_ids\n",
    "])"
   ]
  },
  {
   "cell_type": "markdown",
   "metadata": {},
   "source": [
    "There are two types of event: earthquare, nuclear explosion.\n",
    "\n",
    "Let's predict the event type from its signal embeddings."
   ]
  },
  {
   "cell_type": "code",
   "execution_count": 3,
   "metadata": {},
   "outputs": [
    {
     "name": "stdout",
     "output_type": "stream",
     "text": [
      "Number of signals by event type:\n",
      "- earthquake: 48638\n",
      "- nuclear explosion: 31\n"
     ]
    }
   ],
   "source": [
    "print('Number of signals by event type:')\n",
    "print('- earthquake:', len(event_ids[event_types == 'earthquake']))\n",
    "print('- nuclear explosion:', len(event_ids[event_types == 'nuclear explosion']))"
   ]
  },
  {
   "cell_type": "markdown",
   "metadata": {},
   "source": [
    "The data is highly imbalanced"
   ]
  },
  {
   "attachments": {},
   "cell_type": "markdown",
   "metadata": {
    "slideshow": {
     "slide_type": "skip"
    }
   },
   "source": [
    "Load embeddings."
   ]
  },
  {
   "cell_type": "code",
   "execution_count": 4,
   "metadata": {},
   "outputs": [
    {
     "name": "stdout",
     "output_type": "stream",
     "text": [
      "Shape of embeddings: (48669, 256)\n"
     ]
    }
   ],
   "source": [
    "embeddings = torch.load('../data/embeddings.pt', map_location=torch.device('cpu'))\n",
    "embeddings = embeddings.squeeze().numpy()\n",
    "\n",
    "print('Shape of embeddings:', embeddings.shape)"
   ]
  },
  {
   "attachments": {},
   "cell_type": "markdown",
   "metadata": {},
   "source": [
    "Train a Gaussian naive Bayes classifier to predict the event type from the signal embeddings."
   ]
  },
  {
   "cell_type": "code",
   "execution_count": 5,
   "metadata": {},
   "outputs": [
    {
     "name": "stdout",
     "output_type": "stream",
     "text": [
      "Confusion matrix:\n",
      "[[41477  7161]\n",
      " [   25     6]]\n"
     ]
    }
   ],
   "source": [
    "clf = GaussianNB()\n",
    "clf.fit(embeddings, event_types)\n",
    "\n",
    "print('Confusion matrix:')\n",
    "print(confusion_matrix(event_types, clf.predict(embeddings)))"
   ]
  }
 ],
 "metadata": {
  "kernelspec": {
   "display_name": "Python 3 (ipykernel)",
   "language": "python",
   "name": "python3"
  },
  "language_info": {
   "codemirror_mode": {
    "name": "ipython",
    "version": 3
   },
   "file_extension": ".py",
   "mimetype": "text/x-python",
   "name": "python",
   "nbconvert_exporter": "python",
   "pygments_lexer": "ipython3",
   "version": "3.9.6"
  },
  "orig_nbformat": 4,
  "vscode": {
   "interpreter": {
    "hash": "31f2aee4e71d21fbe5cf8b01ff0e069b9275f58929596ceb00d14d90e3e16cd6"
   }
  }
 },
 "nbformat": 4,
 "nbformat_minor": 2
}
