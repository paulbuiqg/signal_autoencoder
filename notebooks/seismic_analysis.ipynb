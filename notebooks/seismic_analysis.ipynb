{
 "cells": [
  {
   "attachments": {},
   "cell_type": "markdown",
   "metadata": {},
   "source": [
    "Import packages."
   ]
  },
  {
   "cell_type": "code",
   "execution_count": 7,
   "metadata": {},
   "outputs": [],
   "source": [
    "import os\n",
    "import random\n",
    "import sys\n",
    "\n",
    "import matplotlib.pyplot as plt\n",
    "import numpy as np\n",
    "import pandas as pd\n",
    "import torch\n",
    "from sklearn.linear_model import LogisticRegression\n",
    "from sklearn.metrics import confusion_matrix\n",
    "from sklearn.model_selection import train_test_split\n",
    "\n",
    "module_path = os.path.abspath(os.path.join('..'))\n",
    "if module_path not in sys.path:\n",
    "    sys.path.append(module_path)\n",
    "\n",
    "from signal_autoencoder.dataloading import SeismicSignals\n",
    "from signal_autoencoder.modeling import ConvAutoencoder"
   ]
  },
  {
   "attachments": {},
   "cell_type": "markdown",
   "metadata": {},
   "source": [
    "Load embeddings."
   ]
  },
  {
   "cell_type": "code",
   "execution_count": 8,
   "metadata": {},
   "outputs": [
    {
     "name": "stdout",
     "output_type": "stream",
     "text": [
      "Shape of embeddings: (48669, 256)\n"
     ]
    }
   ],
   "source": [
    "embeddings = torch.load('../data/embeddings.pt', map_location=torch.device('cpu'))\n",
    "embeddings = embeddings.squeeze().numpy()\n",
    "\n",
    "print('Shape of embeddings:', embeddings.shape)"
   ]
  },
  {
   "cell_type": "markdown",
   "metadata": {},
   "source": [
    "Load dataloader for event metadata."
   ]
  },
  {
   "cell_type": "code",
   "execution_count": 9,
   "metadata": {},
   "outputs": [],
   "source": [
    "dataloader = torch.load('../data/dataloader.pth')\n",
    "event_ids = np.array([f.split('_')[0] for f in dataloader.dataset.files])\n",
    "df_event = pd.read_csv('../data/events.csv')\n",
    "event_types = np.array([\n",
    "    df_event.loc[df_event['eventID'] == int(i), 'event_type'].item()\n",
    "    for i in event_ids\n",
    "])"
   ]
  },
  {
   "attachments": {},
   "cell_type": "markdown",
   "metadata": {},
   "source": [
    "Visualize signal and its reconstruction."
   ]
  },
  {
   "cell_type": "code",
   "execution_count": 10,
   "metadata": {},
   "outputs": [
    {
     "ename": "RuntimeError",
     "evalue": "Error(s) in loading state_dict for ConvAutoencoder:\n\tMissing key(s) in state_dict: \"encoder.enc.6.weight\", \"encoder.enc.6.bias\", \"encoder.enc.7.weight\", \"encoder.enc.7.bias\", \"encoder.enc.7.running_mean\", \"encoder.enc.7.running_var\", \"encoder.enc.10.weight\", \"encoder.enc.10.bias\", \"encoder.enc.11.weight\", \"encoder.enc.11.bias\", \"encoder.enc.11.running_mean\", \"encoder.enc.11.running_var\", \"encoder.enc.13.weight\", \"encoder.enc.13.bias\", \"encoder.enc.13.running_mean\", \"encoder.enc.13.running_var\", \"encoder.enc.16.weight\", \"encoder.enc.16.bias\", \"encoder.enc.17.weight\", \"encoder.enc.17.bias\", \"encoder.enc.17.running_mean\", \"encoder.enc.17.running_var\", \"encoder.enc.18.weight\", \"encoder.enc.18.bias\", \"encoder.enc.19.weight\", \"encoder.enc.19.bias\", \"encoder.enc.19.running_mean\", \"encoder.enc.19.running_var\", \"encoder.enc.22.weight\", \"encoder.enc.22.bias\", \"encoder.enc.23.weight\", \"encoder.enc.23.bias\", \"encoder.enc.23.running_mean\", \"encoder.enc.23.running_var\", \"decoder.dec.6.weight\", \"decoder.dec.6.bias\", \"decoder.dec.7.weight\", \"decoder.dec.7.bias\", \"decoder.dec.7.running_mean\", \"decoder.dec.7.running_var\", \"decoder.dec.10.weight\", \"decoder.dec.10.bias\", \"decoder.dec.11.weight\", \"decoder.dec.11.bias\", \"decoder.dec.11.running_mean\", \"decoder.dec.11.running_var\", \"decoder.dec.13.weight\", \"decoder.dec.13.bias\", \"decoder.dec.13.running_mean\", \"decoder.dec.13.running_var\", \"decoder.dec.16.weight\", \"decoder.dec.16.bias\", \"decoder.dec.17.weight\", \"decoder.dec.17.bias\", \"decoder.dec.17.running_mean\", \"decoder.dec.17.running_var\", \"decoder.dec.18.weight\", \"decoder.dec.18.bias\", \"decoder.dec.19.weight\", \"decoder.dec.19.bias\", \"decoder.dec.19.running_mean\", \"decoder.dec.19.running_var\", \"decoder.dec.22.weight\", \"decoder.dec.22.bias\", \"decoder.dec.23.weight\", \"decoder.dec.23.bias\", \"decoder.dec.23.running_mean\", \"decoder.dec.23.running_var\". \n\tUnexpected key(s) in state_dict: \"encoder.enc.8.weight\", \"encoder.enc.8.bias\", \"encoder.enc.9.weight\", \"encoder.enc.9.bias\", \"encoder.enc.9.running_mean\", \"encoder.enc.9.running_var\", \"encoder.enc.9.num_batches_tracked\", \"decoder.dec.8.weight\", \"decoder.dec.8.bias\", \"decoder.dec.9.weight\", \"decoder.dec.9.bias\", \"decoder.dec.9.running_mean\", \"decoder.dec.9.running_var\", \"decoder.dec.9.num_batches_tracked\". \n\tsize mismatch for encoder.enc.4.weight: copying a param with shape torch.Size([256, 128, 3]) from checkpoint, the shape in current model is torch.Size([128, 128, 3]).\n\tsize mismatch for encoder.enc.4.bias: copying a param with shape torch.Size([256]) from checkpoint, the shape in current model is torch.Size([128]).\n\tsize mismatch for encoder.enc.5.weight: copying a param with shape torch.Size([256]) from checkpoint, the shape in current model is torch.Size([128]).\n\tsize mismatch for encoder.enc.5.bias: copying a param with shape torch.Size([256]) from checkpoint, the shape in current model is torch.Size([128]).\n\tsize mismatch for encoder.enc.5.running_mean: copying a param with shape torch.Size([256]) from checkpoint, the shape in current model is torch.Size([128]).\n\tsize mismatch for encoder.enc.5.running_var: copying a param with shape torch.Size([256]) from checkpoint, the shape in current model is torch.Size([128]).\n\tsize mismatch for encoder.enc.12.weight: copying a param with shape torch.Size([1024, 512, 3]) from checkpoint, the shape in current model is torch.Size([512, 256, 3]).\n\tsize mismatch for encoder.enc.12.bias: copying a param with shape torch.Size([1024]) from checkpoint, the shape in current model is torch.Size([512]).\n\tsize mismatch for decoder.dec.4.weight: copying a param with shape torch.Size([256, 512, 3]) from checkpoint, the shape in current model is torch.Size([512, 512, 3]).\n\tsize mismatch for decoder.dec.4.bias: copying a param with shape torch.Size([256]) from checkpoint, the shape in current model is torch.Size([512]).\n\tsize mismatch for decoder.dec.5.weight: copying a param with shape torch.Size([256]) from checkpoint, the shape in current model is torch.Size([512]).\n\tsize mismatch for decoder.dec.5.bias: copying a param with shape torch.Size([256]) from checkpoint, the shape in current model is torch.Size([512]).\n\tsize mismatch for decoder.dec.5.running_mean: copying a param with shape torch.Size([256]) from checkpoint, the shape in current model is torch.Size([512]).\n\tsize mismatch for decoder.dec.5.running_var: copying a param with shape torch.Size([256]) from checkpoint, the shape in current model is torch.Size([512]).\n\tsize mismatch for decoder.dec.12.weight: copying a param with shape torch.Size([3, 128, 3]) from checkpoint, the shape in current model is torch.Size([128, 256, 3]).\n\tsize mismatch for decoder.dec.12.bias: copying a param with shape torch.Size([3]) from checkpoint, the shape in current model is torch.Size([128]).",
     "output_type": "error",
     "traceback": [
      "\u001b[0;31m---------------------------------------------------------------------------\u001b[0m",
      "\u001b[0;31mRuntimeError\u001b[0m                              Traceback (most recent call last)",
      "Cell \u001b[0;32mIn[10], line 11\u001b[0m\n\u001b[1;32m      8\u001b[0m model \u001b[39m=\u001b[39m ConvAutoencoder(\u001b[39m3\u001b[39m, n_conv_channel_1, n_conv_channel_2,\n\u001b[1;32m      9\u001b[0m                         n_conv_channel_3, n_conv_channel_4)\n\u001b[1;32m     10\u001b[0m checkpoint \u001b[39m=\u001b[39m torch\u001b[39m.\u001b[39mload(\u001b[39m'\u001b[39m\u001b[39m../scripts/autoencoder.pt\u001b[39m\u001b[39m'\u001b[39m, map_location\u001b[39m=\u001b[39mtorch\u001b[39m.\u001b[39mdevice(\u001b[39m'\u001b[39m\u001b[39mcpu\u001b[39m\u001b[39m'\u001b[39m))\n\u001b[0;32m---> 11\u001b[0m model\u001b[39m.\u001b[39;49mload_state_dict(checkpoint[\u001b[39m'\u001b[39;49m\u001b[39mmodel_state_dict\u001b[39;49m\u001b[39m'\u001b[39;49m])\n\u001b[1;32m     13\u001b[0m i \u001b[39m=\u001b[39m random\u001b[39m.\u001b[39mrandint(\u001b[39m0\u001b[39m, \u001b[39mlen\u001b[39m(dataset))\n\u001b[1;32m     15\u001b[0m x, _ \u001b[39m=\u001b[39m dataset\u001b[39m.\u001b[39m\u001b[39m__getitem__\u001b[39m(i)\n",
      "File \u001b[0;32m~/Library/Python/3.9/lib/python/site-packages/torch/nn/modules/module.py:2041\u001b[0m, in \u001b[0;36mModule.load_state_dict\u001b[0;34m(self, state_dict, strict)\u001b[0m\n\u001b[1;32m   2036\u001b[0m         error_msgs\u001b[39m.\u001b[39minsert(\n\u001b[1;32m   2037\u001b[0m             \u001b[39m0\u001b[39m, \u001b[39m'\u001b[39m\u001b[39mMissing key(s) in state_dict: \u001b[39m\u001b[39m{}\u001b[39;00m\u001b[39m. \u001b[39m\u001b[39m'\u001b[39m\u001b[39m.\u001b[39mformat(\n\u001b[1;32m   2038\u001b[0m                 \u001b[39m'\u001b[39m\u001b[39m, \u001b[39m\u001b[39m'\u001b[39m\u001b[39m.\u001b[39mjoin(\u001b[39m'\u001b[39m\u001b[39m\"\u001b[39m\u001b[39m{}\u001b[39;00m\u001b[39m\"\u001b[39m\u001b[39m'\u001b[39m\u001b[39m.\u001b[39mformat(k) \u001b[39mfor\u001b[39;00m k \u001b[39min\u001b[39;00m missing_keys)))\n\u001b[1;32m   2040\u001b[0m \u001b[39mif\u001b[39;00m \u001b[39mlen\u001b[39m(error_msgs) \u001b[39m>\u001b[39m \u001b[39m0\u001b[39m:\n\u001b[0;32m-> 2041\u001b[0m     \u001b[39mraise\u001b[39;00m \u001b[39mRuntimeError\u001b[39;00m(\u001b[39m'\u001b[39m\u001b[39mError(s) in loading state_dict for \u001b[39m\u001b[39m{}\u001b[39;00m\u001b[39m:\u001b[39m\u001b[39m\\n\u001b[39;00m\u001b[39m\\t\u001b[39;00m\u001b[39m{}\u001b[39;00m\u001b[39m'\u001b[39m\u001b[39m.\u001b[39mformat(\n\u001b[1;32m   2042\u001b[0m                        \u001b[39mself\u001b[39m\u001b[39m.\u001b[39m\u001b[39m__class__\u001b[39m\u001b[39m.\u001b[39m\u001b[39m__name__\u001b[39m, \u001b[39m\"\u001b[39m\u001b[39m\\n\u001b[39;00m\u001b[39m\\t\u001b[39;00m\u001b[39m\"\u001b[39m\u001b[39m.\u001b[39mjoin(error_msgs)))\n\u001b[1;32m   2043\u001b[0m \u001b[39mreturn\u001b[39;00m _IncompatibleKeys(missing_keys, unexpected_keys)\n",
      "\u001b[0;31mRuntimeError\u001b[0m: Error(s) in loading state_dict for ConvAutoencoder:\n\tMissing key(s) in state_dict: \"encoder.enc.6.weight\", \"encoder.enc.6.bias\", \"encoder.enc.7.weight\", \"encoder.enc.7.bias\", \"encoder.enc.7.running_mean\", \"encoder.enc.7.running_var\", \"encoder.enc.10.weight\", \"encoder.enc.10.bias\", \"encoder.enc.11.weight\", \"encoder.enc.11.bias\", \"encoder.enc.11.running_mean\", \"encoder.enc.11.running_var\", \"encoder.enc.13.weight\", \"encoder.enc.13.bias\", \"encoder.enc.13.running_mean\", \"encoder.enc.13.running_var\", \"encoder.enc.16.weight\", \"encoder.enc.16.bias\", \"encoder.enc.17.weight\", \"encoder.enc.17.bias\", \"encoder.enc.17.running_mean\", \"encoder.enc.17.running_var\", \"encoder.enc.18.weight\", \"encoder.enc.18.bias\", \"encoder.enc.19.weight\", \"encoder.enc.19.bias\", \"encoder.enc.19.running_mean\", \"encoder.enc.19.running_var\", \"encoder.enc.22.weight\", \"encoder.enc.22.bias\", \"encoder.enc.23.weight\", \"encoder.enc.23.bias\", \"encoder.enc.23.running_mean\", \"encoder.enc.23.running_var\", \"decoder.dec.6.weight\", \"decoder.dec.6.bias\", \"decoder.dec.7.weight\", \"decoder.dec.7.bias\", \"decoder.dec.7.running_mean\", \"decoder.dec.7.running_var\", \"decoder.dec.10.weight\", \"decoder.dec.10.bias\", \"decoder.dec.11.weight\", \"decoder.dec.11.bias\", \"decoder.dec.11.running_mean\", \"decoder.dec.11.running_var\", \"decoder.dec.13.weight\", \"decoder.dec.13.bias\", \"decoder.dec.13.running_mean\", \"decoder.dec.13.running_var\", \"decoder.dec.16.weight\", \"decoder.dec.16.bias\", \"decoder.dec.17.weight\", \"decoder.dec.17.bias\", \"decoder.dec.17.running_mean\", \"decoder.dec.17.running_var\", \"decoder.dec.18.weight\", \"decoder.dec.18.bias\", \"decoder.dec.19.weight\", \"decoder.dec.19.bias\", \"decoder.dec.19.running_mean\", \"decoder.dec.19.running_var\", \"decoder.dec.22.weight\", \"decoder.dec.22.bias\", \"decoder.dec.23.weight\", \"decoder.dec.23.bias\", \"decoder.dec.23.running_mean\", \"decoder.dec.23.running_var\". \n\tUnexpected key(s) in state_dict: \"encoder.enc.8.weight\", \"encoder.enc.8.bias\", \"encoder.enc.9.weight\", \"encoder.enc.9.bias\", \"encoder.enc.9.running_mean\", \"encoder.enc.9.running_var\", \"encoder.enc.9.num_batches_tracked\", \"decoder.dec.8.weight\", \"decoder.dec.8.bias\", \"decoder.dec.9.weight\", \"decoder.dec.9.bias\", \"decoder.dec.9.running_mean\", \"decoder.dec.9.running_var\", \"decoder.dec.9.num_batches_tracked\". \n\tsize mismatch for encoder.enc.4.weight: copying a param with shape torch.Size([256, 128, 3]) from checkpoint, the shape in current model is torch.Size([128, 128, 3]).\n\tsize mismatch for encoder.enc.4.bias: copying a param with shape torch.Size([256]) from checkpoint, the shape in current model is torch.Size([128]).\n\tsize mismatch for encoder.enc.5.weight: copying a param with shape torch.Size([256]) from checkpoint, the shape in current model is torch.Size([128]).\n\tsize mismatch for encoder.enc.5.bias: copying a param with shape torch.Size([256]) from checkpoint, the shape in current model is torch.Size([128]).\n\tsize mismatch for encoder.enc.5.running_mean: copying a param with shape torch.Size([256]) from checkpoint, the shape in current model is torch.Size([128]).\n\tsize mismatch for encoder.enc.5.running_var: copying a param with shape torch.Size([256]) from checkpoint, the shape in current model is torch.Size([128]).\n\tsize mismatch for encoder.enc.12.weight: copying a param with shape torch.Size([1024, 512, 3]) from checkpoint, the shape in current model is torch.Size([512, 256, 3]).\n\tsize mismatch for encoder.enc.12.bias: copying a param with shape torch.Size([1024]) from checkpoint, the shape in current model is torch.Size([512]).\n\tsize mismatch for decoder.dec.4.weight: copying a param with shape torch.Size([256, 512, 3]) from checkpoint, the shape in current model is torch.Size([512, 512, 3]).\n\tsize mismatch for decoder.dec.4.bias: copying a param with shape torch.Size([256]) from checkpoint, the shape in current model is torch.Size([512]).\n\tsize mismatch for decoder.dec.5.weight: copying a param with shape torch.Size([256]) from checkpoint, the shape in current model is torch.Size([512]).\n\tsize mismatch for decoder.dec.5.bias: copying a param with shape torch.Size([256]) from checkpoint, the shape in current model is torch.Size([512]).\n\tsize mismatch for decoder.dec.5.running_mean: copying a param with shape torch.Size([256]) from checkpoint, the shape in current model is torch.Size([512]).\n\tsize mismatch for decoder.dec.5.running_var: copying a param with shape torch.Size([256]) from checkpoint, the shape in current model is torch.Size([512]).\n\tsize mismatch for decoder.dec.12.weight: copying a param with shape torch.Size([3, 128, 3]) from checkpoint, the shape in current model is torch.Size([128, 256, 3]).\n\tsize mismatch for decoder.dec.12.bias: copying a param with shape torch.Size([3]) from checkpoint, the shape in current model is torch.Size([128])."
     ]
    }
   ],
   "source": [
    "dataset = SeismicSignals('../data', df_event)\n",
    "dataset.set_mean_and_std(dataloader.dataset.mean, dataloader.dataset.std)\n",
    "\n",
    "n_conv_channel_1 = 128\n",
    "n_conv_channel_2 = 256\n",
    "n_conv_channel_3 = 512\n",
    "n_conv_channel_4 = 1024\n",
    "model = ConvAutoencoder(3, n_conv_channel_1, n_conv_channel_2,\n",
    "                        n_conv_channel_3, n_conv_channel_4)\n",
    "checkpoint = torch.load('../scripts/autoencoder.pt', map_location=torch.device('cpu'))\n",
    "model.load_state_dict(checkpoint['model_state_dict'])\n",
    "\n",
    "i = random.randint(0, len(dataset))\n",
    "\n",
    "x, _ = dataset.__getitem__(i)\n",
    "with torch.no_grad():\n",
    "    y = model(x[None,:,:])\n",
    "    y = y.squeeze()\n",
    "\n",
    "plt.plot(x[:,0])\n",
    "plt.show()\n",
    "plt.plot(y[:,0])\n",
    "plt.show()"
   ]
  },
  {
   "cell_type": "markdown",
   "metadata": {},
   "source": [
    "There are two types of event: earthquare, nuclear explosion.\n",
    "\n",
    "Let's predict the event type from its signal embeddings."
   ]
  },
  {
   "cell_type": "code",
   "execution_count": null,
   "metadata": {},
   "outputs": [
    {
     "name": "stdout",
     "output_type": "stream",
     "text": [
      "Number of signals by event type:\n",
      "- earthquake: 48638\n",
      "- nuclear explosion: 31\n"
     ]
    }
   ],
   "source": [
    "print('Number of signals by event type:')\n",
    "print('- earthquake:', len(event_ids[event_types == 'earthquake']))\n",
    "print('- nuclear explosion:', len(event_ids[event_types == 'nuclear explosion']))"
   ]
  },
  {
   "cell_type": "markdown",
   "metadata": {},
   "source": [
    "The data is highly imbalanced"
   ]
  },
  {
   "cell_type": "markdown",
   "metadata": {},
   "source": [
    "Split events for training and test."
   ]
  },
  {
   "cell_type": "code",
   "execution_count": null,
   "metadata": {},
   "outputs": [],
   "source": [
    "train_events, test_events = train_test_split(df_event['eventID'].values,\n",
    "                                             stratify=df_event['event_type'])\n",
    "\n",
    "is_train = np.isin(event_ids, train_events)\n",
    "is_test = np.isin(event_ids, test_events)"
   ]
  },
  {
   "cell_type": "markdown",
   "metadata": {},
   "source": [
    "Train a logistic regression."
   ]
  },
  {
   "cell_type": "code",
   "execution_count": null,
   "metadata": {},
   "outputs": [
    {
     "name": "stdout",
     "output_type": "stream",
     "text": [
      "Accuracy:\n",
      "- training 0.7024985774145155\n",
      "- test 0.7030078944738682\n",
      "\n",
      "Test confusion matrix:\n",
      "[[7032 2970]\n",
      " [   2    3]]\n"
     ]
    }
   ],
   "source": [
    "X_train = embeddings[is_train]\n",
    "X_test = embeddings[is_test]\n",
    "y_train = event_types[is_train]\n",
    "y_test = event_types[is_test]\n",
    "\n",
    "lr = LogisticRegression(class_weight='balanced')\n",
    "lr.fit(X_train, y_train)\n",
    "print('Accuracy:')\n",
    "print('- training', lr.score(X_train, y_train))\n",
    "print('- test', lr.score(X_test, y_test))\n",
    "print('')\n",
    "print('Test confusion matrix:')\n",
    "y_pred = lr.predict(X_test)\n",
    "print(confusion_matrix(y_test, y_pred))"
   ]
  },
  {
   "cell_type": "markdown",
   "metadata": {},
   "source": [
    "Visualize the logistic regression coefficients."
   ]
  },
  {
   "cell_type": "code",
   "execution_count": null,
   "metadata": {},
   "outputs": [
    {
     "data": {
      "image/png": "[encoded data removed]",
      "text/plain": [
       "<Figure size 640x480 with 1 Axes>"
      ]
     },
     "metadata": {},
     "output_type": "display_data"
    }
   ],
   "source": [
    "plt.scatter(range(len(lr.coef_.flatten())), lr.coef_)\n",
    "plt.xlabel('Coefficient index')\n",
    "plt.ylabel('Coefficient value')\n",
    "plt.show()"
   ]
  },
  {
   "attachments": {},
   "cell_type": "markdown",
   "metadata": {},
   "source": [
    "Let's predict the event type using the corresponding best embedding dimension only."
   ]
  },
  {
   "cell_type": "code",
   "execution_count": null,
   "metadata": {},
   "outputs": [],
   "source": [
    "best_coef = np.argmax(np.abs(lr.coef_))"
   ]
  },
  {
   "cell_type": "code",
   "execution_count": null,
   "metadata": {},
   "outputs": [
    {
     "name": "stdout",
     "output_type": "stream",
     "text": [
      "Accuracy:\n",
      "- training 0.7018002172676012\n",
      "- test 0.7026081742780054\n",
      "\n",
      "Test confusion matrix:\n",
      "[[7028 2974]\n",
      " [   2    3]]\n"
     ]
    }
   ],
   "source": [
    "embeddings_1d = embeddings[:,best_coef]\n",
    "X_train = embeddings_1d[is_train].reshape(-1, 1)\n",
    "X_test = embeddings_1d[is_test].reshape(-1, 1)\n",
    "y_train = event_types[is_train]\n",
    "y_test = event_types[is_test]\n",
    "\n",
    "lr = LogisticRegression(class_weight='balanced')\n",
    "lr.fit(X_train, y_train)\n",
    "print('Accuracy:')\n",
    "print('- training', lr.score(X_train, y_train))\n",
    "print('- test', lr.score(X_test, y_test))\n",
    "print('')\n",
    "print('Test confusion matrix:')\n",
    "y_pred = lr.predict(X_test)\n",
    "print(confusion_matrix(y_test, y_pred))\n"
   ]
  }
 ],
 "metadata": {
  "kernelspec": {
   "display_name": "Python 3 (ipykernel)",
   "language": "python",
   "name": "python3"
  },
  "language_info": {
   "codemirror_mode": {
    "name": "ipython",
    "version": 3
   },
   "file_extension": ".py",
   "mimetype": "text/x-python",
   "name": "python",
   "nbconvert_exporter": "python",
   "pygments_lexer": "ipython3",
   "version": "3.9.6"
  },
  "orig_nbformat": 4,
  "vscode": {
   "interpreter": {
    "hash": "31f2aee4e71d21fbe5cf8b01ff0e069b9275f58929596ceb00d14d90e3e16cd6"
   }
  }
 },
 "nbformat": 4,
 "nbformat_minor": 2
}
